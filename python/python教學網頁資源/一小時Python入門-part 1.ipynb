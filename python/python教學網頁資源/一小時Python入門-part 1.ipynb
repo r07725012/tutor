{
 "cells": [
  {
   "cell_type": "code",
   "execution_count": 2,
   "metadata": {},
   "outputs": [
    {
     "name": "stdout",
     "output_type": "stream",
     "text": [
      "hallo world\n"
     ]
    }
   ],
   "source": [
    "print('hallo world')"
   ]
  },
  {
   "cell_type": "code",
   "execution_count": 1,
   "metadata": {},
   "outputs": [
    {
     "data": {
      "text/plain": [
       "int"
      ]
     },
     "execution_count": 1,
     "metadata": {},
     "output_type": "execute_result"
    }
   ],
   "source": [
    "a=123\n",
    "type(a)"
   ]
  },
  {
   "cell_type": "code",
   "execution_count": 3,
   "metadata": {},
   "outputs": [
    {
     "data": {
      "text/plain": [
       "str"
      ]
     },
     "execution_count": 3,
     "metadata": {},
     "output_type": "execute_result"
    }
   ],
   "source": [
    "b='456'\n",
    "type(b)"
   ]
  },
  {
   "cell_type": "code",
   "execution_count": 4,
   "metadata": {},
   "outputs": [
    {
     "data": {
      "text/plain": [
       "float"
      ]
     },
     "execution_count": 4,
     "metadata": {},
     "output_type": "execute_result"
    }
   ],
   "source": [
    "c=8.70\n",
    "type(c)"
   ]
  },
  {
   "cell_type": "code",
   "execution_count": 5,
   "metadata": {},
   "outputs": [
    {
     "name": "stdout",
     "output_type": "stream",
     "text": [
      "13\n",
      "-3\n",
      "40\n",
      "0.625\n",
      "0\n",
      "390625\n"
     ]
    }
   ],
   "source": [
    "a=5\n",
    "b=8\n",
    "print(a+b)\n",
    "print(a-b)\n",
    "print(a*b)\n",
    "print(a/b)\n",
    "print(a//b)\n",
    "print(a**b)"
   ]
  },
  {
   "cell_type": "code",
   "execution_count": 6,
   "metadata": {},
   "outputs": [
    {
     "name": "stdout",
     "output_type": "stream",
     "text": [
      "3\n",
      "4\n",
      "-3\n"
     ]
    }
   ],
   "source": [
    "a=-3\n",
    "b=4\n",
    "print(abs(a))\n",
    "print(max(a,b))\n",
    "print(min(a,b))"
   ]
  },
  {
   "cell_type": "code",
   "execution_count": 7,
   "metadata": {},
   "outputs": [
    {
     "name": "stdout",
     "output_type": "stream",
     "text": [
      "579\n",
      "123456\n"
     ]
    }
   ],
   "source": [
    "a=123\n",
    "b=\"456\"\n",
    "print(a+int(b))\n",
    "print(str(a)+b)"
   ]
  },
  {
   "cell_type": "code",
   "execution_count": 9,
   "metadata": {},
   "outputs": [
    {
     "name": "stdout",
     "output_type": "stream",
     "text": [
      "整數1 = 10\n",
      "整數2 = 101\n",
      "111\n",
      "-91\n",
      "1010\n",
      "0.09900990099009901\n"
     ]
    }
   ],
   "source": [
    "a=int(input(\"整數1 = \"))\n",
    "b=int(input(\"整數2 = \"))\n",
    "print(a+b)\n",
    "print(a-b)\n",
    "print(a*b)\n",
    "print(a/b)"
   ]
  },
  {
   "cell_type": "code",
   "execution_count": 10,
   "metadata": {},
   "outputs": [
    {
     "name": "stdout",
     "output_type": "stream",
     "text": [
      "看看小說就好\n"
     ]
    }
   ],
   "source": [
    "battery=50\n",
    "if battery >80:\n",
    "    print('來去抓寶可夢喽')\n",
    "elif battery <30:\n",
    "    print('乖乖回家吧')\n",
    "else:\n",
    "    print(\"看看小說就好\")"
   ]
  },
  {
   "cell_type": "code",
   "execution_count": 14,
   "metadata": {},
   "outputs": [
    {
     "name": "stdout",
     "output_type": "stream",
     "text": [
      "不是note7就好,記得充電喲寶貝\n"
     ]
    }
   ],
   "source": [
    "phone = 'iphone'\n",
    "battery = 5\n",
    "if phone == \"samsung note7\"and battery < 10:\n",
    "    print(\"要爆炸了,塊陶阿~~~\")\n",
    "elif phone != 'samsung note7'and battery < 10:\n",
    "    print(\"不是note7就好,記得充電喲寶貝\")\n",
    "elif not phone == \"samsung note7\"or battery > 90:\n",
    "    print('不是note7或電池飽飽的,沒有爆炸的危機')\n",
    "else:\n",
    "    print(\"我不知道妳發生什麼事了\")"
   ]
  },
  {
   "cell_type": "code",
   "execution_count": 15,
   "metadata": {},
   "outputs": [
    {
     "name": "stdout",
     "output_type": "stream",
     "text": [
      "運算符號:*\n",
      "整數1:11\n",
      "整數2:23\n",
      "253\n"
     ]
    }
   ],
   "source": [
    "x=input('運算符號:')\n",
    "a=int(input('整數1:'))\n",
    "b=int(input('整數2:'))\n",
    "if x ==('+'):\n",
    "    print(a+b)\n",
    "elif x ==('-'):\n",
    "    print(a-b)\n",
    "elif x ==('*'):\n",
    "    print(a*b)\n",
    "elif x ==('/'):\n",
    "    print(a/b)\n",
    "else :\n",
    "    print('錯誤')"
   ]
  },
  {
   "cell_type": "code",
   "execution_count": 16,
   "metadata": {},
   "outputs": [
    {
     "name": "stdout",
     "output_type": "stream",
     "text": [
      "0\n",
      "1\n",
      "2\n",
      "3\n",
      "4\n",
      "5\n",
      "6\n",
      "7\n",
      "8\n",
      "9\n"
     ]
    }
   ],
   "source": [
    "print(0)\n",
    "print(1)\n",
    "print(2)\n",
    "print(3)\n",
    "print(4)\n",
    "print(5)\n",
    "print(6)\n",
    "print(7)\n",
    "print(8)\n",
    "print(9)"
   ]
  },
  {
   "cell_type": "code",
   "execution_count": 1,
   "metadata": {},
   "outputs": [
    {
     "name": "stdout",
     "output_type": "stream",
     "text": [
      "1\n",
      "2\n",
      "3\n",
      "4\n",
      "5\n",
      "6\n",
      "7\n",
      "8\n",
      "9\n",
      "2\n",
      "4\n",
      "6\n",
      "8\n",
      "10\n",
      "12\n",
      "14\n",
      "16\n",
      "18\n",
      "3\n",
      "6\n",
      "9\n",
      "12\n",
      "15\n",
      "18\n",
      "21\n",
      "24\n",
      "27\n",
      "4\n",
      "8\n",
      "12\n",
      "16\n",
      "20\n",
      "24\n",
      "28\n",
      "32\n",
      "36\n",
      "5\n",
      "10\n",
      "15\n",
      "20\n",
      "25\n",
      "30\n",
      "35\n",
      "40\n",
      "45\n",
      "6\n",
      "12\n",
      "18\n",
      "24\n",
      "30\n",
      "36\n",
      "42\n",
      "48\n",
      "54\n",
      "7\n",
      "14\n",
      "21\n",
      "28\n",
      "35\n",
      "42\n",
      "49\n",
      "56\n",
      "63\n",
      "8\n",
      "16\n",
      "24\n",
      "32\n",
      "40\n",
      "48\n",
      "56\n",
      "64\n",
      "72\n",
      "9\n",
      "18\n",
      "27\n",
      "36\n",
      "45\n",
      "54\n",
      "63\n",
      "72\n",
      "81\n"
     ]
    }
   ],
   "source": [
    "for i in range(1,10):\n",
    "    for j in range(1,10):\n",
    "        print(i*j)"
   ]
  },
  {
   "cell_type": "code",
   "execution_count": 4,
   "metadata": {},
   "outputs": [
    {
     "name": "stdout",
     "output_type": "stream",
     "text": [
      "1 2 3 4 5 6 7 8 9 \n",
      "2 4 6 8 10 12 14 16 18 \n",
      "3 6 9 12 15 18 21 24 27 \n",
      "4 8 12 16 20 24 28 32 36 \n",
      "5 10 15 20 25 30 35 40 45 \n",
      "6 12 18 24 30 36 42 48 54 \n",
      "7 14 21 28 35 42 49 56 63 \n",
      "8 16 24 32 40 48 56 64 72 \n",
      "9 18 27 36 45 54 63 72 81 \n"
     ]
    }
   ],
   "source": [
    "for i in range(1, 10):\n",
    "    for j in range(1, 10):\n",
    "        print(i*j,end=' ')\n",
    "    print(end='\\n')"
   ]
  },
  {
   "cell_type": "code",
   "execution_count": 5,
   "metadata": {},
   "outputs": [
    {
     "name": "stdout",
     "output_type": "stream",
     "text": [
      "1\n",
      "3\n",
      "5\n",
      "7\n",
      "9\n"
     ]
    }
   ],
   "source": [
    "for i in range(1,10,2):\n",
    "    print(i)"
   ]
  },
  {
   "cell_type": "code",
   "execution_count": 6,
   "metadata": {},
   "outputs": [
    {
     "name": "stdout",
     "output_type": "stream",
     "text": [
      "10\n",
      "7\n",
      "4\n"
     ]
    }
   ],
   "source": [
    "for j in range(10,1,-3):\n",
    "    print(j)"
   ]
  },
  {
   "cell_type": "code",
   "execution_count": 8,
   "metadata": {},
   "outputs": [
    {
     "name": "stdout",
     "output_type": "stream",
     "text": [
      "50\n",
      "猜錯了\n",
      "25\n",
      "猜錯了\n",
      "20\n",
      "猜錯了\n",
      "遊戲結束了\n"
     ]
    }
   ],
   "source": [
    "ans=29\n",
    "for guessChence in range(0,3):\n",
    "    guess=int(input())\n",
    "    if ans==guess:\n",
    "        print('Bingo!')\n",
    "        break\n",
    "    else:\n",
    "        print('猜錯了')\n",
    "print('遊戲結束了')"
   ]
  },
  {
   "cell_type": "code",
   "execution_count": 9,
   "metadata": {},
   "outputs": [
    {
     "name": "stdout",
     "output_type": "stream",
     "text": [
      "Lynn\n",
      "0.87\n",
      "1234\n",
      "True\n"
     ]
    }
   ],
   "source": [
    "a=['Lynn',0.87,1234,True]\n",
    "for i in range(0,len(a)):\n",
    "    print(a[i])"
   ]
  },
  {
   "cell_type": "code",
   "execution_count": 10,
   "metadata": {},
   "outputs": [
    {
     "name": "stdout",
     "output_type": "stream",
     "text": [
      "Lynn\n",
      "0.87\n",
      "1234\n",
      "True\n"
     ]
    }
   ],
   "source": [
    "a=['Lynn',0.87,1234,True]\n",
    "for i in a :\n",
    "    print(i)"
   ]
  },
  {
   "cell_type": "code",
   "execution_count": 11,
   "metadata": {},
   "outputs": [
    {
     "name": "stdout",
     "output_type": "stream",
     "text": [
      "1\n",
      "9\n",
      "25\n",
      "49\n",
      "81\n",
      "[1, 9, 25, 49, 81]\n"
     ]
    }
   ],
   "source": [
    "a=[1,3,5,7,9]\n",
    "for i in range(0,len(a)):\n",
    "    print(a[i]*a[i])\n",
    "    a[i]=a[i]*a[i]\n",
    "print(a)"
   ]
  },
  {
   "cell_type": "code",
   "execution_count": 12,
   "metadata": {},
   "outputs": [
    {
     "name": "stdout",
     "output_type": "stream",
     "text": [
      "['Justin Bieber', 'Taylor Swift', 'Lady Gaga', 'katy perry', 'Sia']\n",
      "['Justin Bieber', 'Taylor Swift', 'Britney Spears', 'Lady Gaga', 'katy perry', 'Sia']\n"
     ]
    }
   ],
   "source": [
    "singers=['Justin Bieber','Taylor Swift','Lady Gaga','katy perry']\n",
    "singers.append('Sia')\n",
    "print(singers)\n",
    "\n",
    "singers.insert(2,'Britney Spears')\n",
    "print(singers)"
   ]
  },
  {
   "cell_type": "code",
   "execution_count": 13,
   "metadata": {},
   "outputs": [
    {
     "name": "stdout",
     "output_type": "stream",
     "text": [
      "['Colin Firth', 'Chrystian Bale', 'Angelina Jolie']\n",
      "['Colin Firth', 'Chrystian Bale']\n"
     ]
    }
   ],
   "source": [
    "cast=['Colin Firth','Chrystian Bale','Angelina Jolie','Anne Hathaway']\n",
    "cast.pop()\n",
    "print(cast)\n",
    "\n",
    "cast.pop(2)\n",
    "print(cast)"
   ]
  },
  {
   "cell_type": "code",
   "execution_count": 16,
   "metadata": {},
   "outputs": [
    {
     "name": "stdout",
     "output_type": "stream",
     "text": [
      "['小提琴', '牛排', '妹子', '蠟燭']\n",
      "['小提琴', '牛排', '蠟燭']\n",
      "[]\n"
     ]
    }
   ],
   "source": [
    "sweet_dinner=['小提琴','妹子','牛排','妹子','蠟燭']\n",
    "sweet_dinner.remove(\"妹子\")\n",
    "print(sweet_dinner)\n",
    "sweet_dinner.remove(\"妹子\")\n",
    "print(sweet_dinner)\n",
    "sweet_dinner.clear()\n",
    "print(sweet_dinner)"
   ]
  },
  {
   "cell_type": "code",
   "execution_count": 22,
   "metadata": {},
   "outputs": [
    {
     "name": "stdout",
     "output_type": "stream",
     "text": [
      "五次成績:1030507090\n"
     ]
    },
    {
     "ename": "TypeError",
     "evalue": "unsupported operand type(s) for +: 'int' and 'str'",
     "output_type": "error",
     "traceback": [
      "\u001b[1;31m---------------------------------------------------------------------------\u001b[0m",
      "\u001b[1;31mTypeError\u001b[0m                                 Traceback (most recent call last)",
      "\u001b[1;32m<ipython-input-22-d42557365f23>\u001b[0m in \u001b[0;36m<module>\u001b[1;34m\u001b[0m\n\u001b[0;32m      4\u001b[0m     \u001b[0mprint\u001b[0m\u001b[1;33m(\u001b[0m\u001b[0mgrade\u001b[0m\u001b[1;33m,\u001b[0m\u001b[0mend\u001b[0m\u001b[1;33m=\u001b[0m\u001b[1;34m''\u001b[0m\u001b[1;33m)\u001b[0m\u001b[1;33m\u001b[0m\u001b[1;33m\u001b[0m\u001b[0m\n\u001b[0;32m      5\u001b[0m \u001b[0mprint\u001b[0m \u001b[1;33m(\u001b[0m\u001b[0mend\u001b[0m\u001b[1;33m=\u001b[0m\u001b[1;34m'\\n'\u001b[0m\u001b[1;33m)\u001b[0m\u001b[1;33m\u001b[0m\u001b[1;33m\u001b[0m\u001b[0m\n\u001b[1;32m----> 6\u001b[1;33m \u001b[0maverage\u001b[0m\u001b[1;33m=\u001b[0m\u001b[0msum\u001b[0m\u001b[1;33m(\u001b[0m\u001b[0mmath_grades\u001b[0m\u001b[1;33m)\u001b[0m\u001b[1;33m/\u001b[0m\u001b[0mlen\u001b[0m\u001b[1;33m(\u001b[0m\u001b[0mmath_grades\u001b[0m\u001b[1;33m)\u001b[0m\u001b[1;33m\u001b[0m\u001b[1;33m\u001b[0m\u001b[0m\n\u001b[0m\u001b[0;32m      7\u001b[0m \u001b[0mprint\u001b[0m\u001b[1;33m(\u001b[0m\u001b[1;34m'平均成績:'\u001b[0m\u001b[1;33m,\u001b[0m\u001b[0maverage\u001b[0m\u001b[1;33m)\u001b[0m\u001b[1;33m\u001b[0m\u001b[1;33m\u001b[0m\u001b[0m\n\u001b[0;32m      8\u001b[0m \u001b[0mprint\u001b[0m\u001b[1;33m(\u001b[0m\u001b[1;34m'新成績:'\u001b[0m\u001b[1;33m,\u001b[0m\u001b[0mend\u001b[0m\u001b[1;33m=\u001b[0m\u001b[1;34m''\u001b[0m\u001b[1;33m)\u001b[0m\u001b[1;33m\u001b[0m\u001b[1;33m\u001b[0m\u001b[0m\n",
      "\u001b[1;31mTypeError\u001b[0m: unsupported operand type(s) for +: 'int' and 'str'"
     ]
    }
   ],
   "source": [
    "math_grades=['10','30','50','70','90']\n",
    "print('五次成績:' ,end='')\n",
    "for grade in math_grades:\n",
    "    print(grade,end='')\n",
    "print (end='\\n')\n",
    "average=sum(math_grades)/len(math_grades)\n",
    "print('平均成績:',average)\n",
    "print('新成績:',end='')\n",
    "for grade in range(0,len=(math_grades)):\n",
    "    math_grades[grade]=math_grades[grade]**0.5*10\n",
    "print (math_grades[grade],end='')\n",
    "print (end='\\n')\n",
    "new_average=sum(math_grades)/len(math_grades)\n",
    "print('新平均成績:',new_average)"
   ]
  },
  {
   "cell_type": "code",
   "execution_count": 23,
   "metadata": {},
   "outputs": [
    {
     "name": "stdout",
     "output_type": "stream",
     "text": [
      "['Hi', 'Hello', 'Hey', 'Yo', 'Howdy']\n",
      "['Hey', 'Yo']\n"
     ]
    }
   ],
   "source": [
    "greeting=['Hi','Hello','Hey','Yo','Howdy','Morning']\n",
    "print(greeting[0:5])\n",
    "print(greeting[2:4])"
   ]
  },
  {
   "cell_type": "code",
   "execution_count": 24,
   "metadata": {},
   "outputs": [
    {
     "name": "stdout",
     "output_type": "stream",
     "text": [
      "['Hi', 'Hello', 'Hey', 'Yo']\n",
      "['Hey', 'Yo', 'Howdy', 'Morning']\n",
      "['Hi', 'Hello', 'Hey', 'Yo', 'Howdy', 'Morning']\n"
     ]
    }
   ],
   "source": [
    "greeting=['Hi','Hello','Hey','Yo','Howdy','Morning']\n",
    "print(greeting[:4])\n",
    "print(greeting[2:])\n",
    "print(greeting[:])"
   ]
  },
  {
   "cell_type": "code",
   "execution_count": null,
   "metadata": {},
   "outputs": [
    {
     "name": "stdout",
     "output_type": "stream",
     "text": [
      "輸入數字:2\n",
      "輸入數字:3\n",
      "輸入數字:6\n",
      "輸入數字:8\n",
      "輸入數字:6\n",
      "輸入數字:3\n",
      "輸入數字:5\n",
      "輸入數字:8\n",
      "輸入數字:1\n",
      "[2, 3, 6, 8, 6, 3, 5, 8, 1]\n",
      "\n"
     ]
    }
   ],
   "source": [
    "people=[]\n",
    "for i in range(1,10):\n",
    "    i=int(input('輸入數字:'))\n",
    "    people.append(i)\n",
    "print(people)\n",
    "print(end='\\n')\n",
    "for questions in range(0,5):\n",
    "    a=int(input('頭在哪裡'))\n",
    "    b=int(input('尾在哪裡'))\n",
    "    print('總和:', sum(people[a,b]))\n",
    "    print(end='\\n')"
   ]
  },
  {
   "cell_type": "code",
   "execution_count": null,
   "metadata": {},
   "outputs": [],
   "source": []
  }
 ],
 "metadata": {
  "kernelspec": {
   "display_name": "Python 3",
   "language": "python",
   "name": "python3"
  },
  "language_info": {
   "codemirror_mode": {
    "name": "ipython",
    "version": 3
   },
   "file_extension": ".py",
   "mimetype": "text/x-python",
   "name": "python",
   "nbconvert_exporter": "python",
   "pygments_lexer": "ipython3",
   "version": "3.7.1"
  }
 },
 "nbformat": 4,
 "nbformat_minor": 4
}
