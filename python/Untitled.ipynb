{
 "cells": [
  {
   "cell_type": "code",
   "execution_count": 1,
   "metadata": {},
   "outputs": [
    {
     "ename": "IndexError",
     "evalue": "list index out of range",
     "output_type": "error",
     "traceback": [
      "\u001b[1;31m---------------------------------------------------------------------------\u001b[0m",
      "\u001b[1;31mIndexError\u001b[0m                                Traceback (most recent call last)",
      "\u001b[1;32m<ipython-input-1-244c3bb3d019>\u001b[0m in \u001b[0;36m<module>\u001b[1;34m\u001b[0m\n\u001b[0;32m     80\u001b[0m     \u001b[1;32mreturn\u001b[0m \u001b[0mdf\u001b[0m\u001b[1;33m\u001b[0m\u001b[1;33m\u001b[0m\u001b[0m\n\u001b[0;32m     81\u001b[0m \u001b[1;33m\u001b[0m\u001b[0m\n\u001b[1;32m---> 82\u001b[1;33m \u001b[0mstock\u001b[0m \u001b[1;33m=\u001b[0m \u001b[0mfinancial_statement\u001b[0m\u001b[1;33m(\u001b[0m\u001b[1;36m107\u001b[0m\u001b[1;33m,\u001b[0m\u001b[1;36m2\u001b[0m\u001b[1;33m)\u001b[0m\u001b[1;33m\u001b[0m\u001b[1;33m\u001b[0m\u001b[0m\n\u001b[0m\u001b[0;32m     83\u001b[0m \u001b[0mstock\u001b[0m \u001b[1;33m=\u001b[0m \u001b[0mstock\u001b[0m\u001b[1;33m.\u001b[0m\u001b[0mastype\u001b[0m\u001b[1;33m(\u001b[0m\u001b[0mfloat\u001b[0m\u001b[1;33m)\u001b[0m\u001b[1;33m\u001b[0m\u001b[1;33m\u001b[0m\u001b[0m\n\u001b[0;32m     84\u001b[0m \u001b[0mstock\u001b[0m\u001b[1;33m.\u001b[0m\u001b[0mhead\u001b[0m\u001b[1;33m(\u001b[0m\u001b[1;33m)\u001b[0m\u001b[1;33m\u001b[0m\u001b[1;33m\u001b[0m\u001b[0m\n",
      "\u001b[1;32m<ipython-input-1-244c3bb3d019>\u001b[0m in \u001b[0;36mfinancial_statement\u001b[1;34m(year, season)\u001b[0m\n\u001b[0;32m     77\u001b[0m     \u001b[0mresponse\u001b[0m\u001b[1;33m.\u001b[0m\u001b[0mencoding\u001b[0m \u001b[1;33m=\u001b[0m \u001b[1;34m'utf8'\u001b[0m\u001b[1;33m\u001b[0m\u001b[1;33m\u001b[0m\u001b[0m\n\u001b[0;32m     78\u001b[0m \u001b[1;33m\u001b[0m\u001b[0m\n\u001b[1;32m---> 79\u001b[1;33m     \u001b[0mdf\u001b[0m \u001b[1;33m=\u001b[0m \u001b[0mtranslate_dataFrame\u001b[0m\u001b[1;33m(\u001b[0m\u001b[0mresponse\u001b[0m\u001b[1;33m.\u001b[0m\u001b[0mtext\u001b[0m\u001b[1;33m)\u001b[0m\u001b[1;33m\u001b[0m\u001b[1;33m\u001b[0m\u001b[0m\n\u001b[0m\u001b[0;32m     80\u001b[0m     \u001b[1;32mreturn\u001b[0m \u001b[0mdf\u001b[0m\u001b[1;33m\u001b[0m\u001b[1;33m\u001b[0m\u001b[0m\n\u001b[0;32m     81\u001b[0m \u001b[1;33m\u001b[0m\u001b[0m\n",
      "\u001b[1;32m<ipython-input-1-244c3bb3d019>\u001b[0m in \u001b[0;36mtranslate_dataFrame\u001b[1;34m(response)\u001b[0m\n\u001b[0;32m     29\u001b[0m      \u001b[1;31m# 拆解內容\u001b[0m\u001b[1;33m\u001b[0m\u001b[1;33m\u001b[0m\u001b[1;33m\u001b[0m\u001b[0m\n\u001b[0;32m     30\u001b[0m     \u001b[0mtable_array\u001b[0m \u001b[1;33m=\u001b[0m \u001b[0mresponse\u001b[0m\u001b[1;33m.\u001b[0m\u001b[0msplit\u001b[0m\u001b[1;33m(\u001b[0m\u001b[1;34m'<table'\u001b[0m\u001b[1;33m)\u001b[0m\u001b[1;33m\u001b[0m\u001b[1;33m\u001b[0m\u001b[0m\n\u001b[1;32m---> 31\u001b[1;33m     \u001b[0mtr_array\u001b[0m \u001b[1;33m=\u001b[0m \u001b[0mtable_array\u001b[0m\u001b[1;33m[\u001b[0m\u001b[1;36m1\u001b[0m\u001b[1;33m]\u001b[0m\u001b[1;33m.\u001b[0m\u001b[0msplit\u001b[0m\u001b[1;33m(\u001b[0m\u001b[1;34m'<tr'\u001b[0m\u001b[1;33m)\u001b[0m\u001b[1;33m\u001b[0m\u001b[1;33m\u001b[0m\u001b[0m\n\u001b[0m\u001b[0;32m     32\u001b[0m \u001b[1;33m\u001b[0m\u001b[0m\n\u001b[0;32m     33\u001b[0m     \u001b[1;31m# 拆解td\u001b[0m\u001b[1;33m\u001b[0m\u001b[1;33m\u001b[0m\u001b[1;33m\u001b[0m\u001b[0m\n",
      "\u001b[1;31mIndexError\u001b[0m: list index out of range"
     ]
    }
   ],
   "source": [
    "# basic\n",
    "import numpy as np\n",
    "import pandas as pd\n",
    "\n",
    "# get data\n",
    "import pandas_datareader as pdr\n",
    "\n",
    "# visual\n",
    "import matplotlib.pyplot as plt\n",
    "%matplotlib inline\n",
    "import seaborn as sns\n",
    "\n",
    "#requests\n",
    "import requests\n",
    "\n",
    "def remove_td(column):\n",
    "    remove_one = column.split('<')\n",
    "    remove_two = remove_one[0].split('>')\n",
    "    return remove_two[1].replace(\",\", \"\")\n",
    "\n",
    "def is_float(input):\n",
    "    try:\n",
    "        num = float(input)\n",
    "    except ValueError:\n",
    "        return False\n",
    "    return True\n",
    "\n",
    "def translate_dataFrame(response):\n",
    "     # 拆解內容\n",
    "    table_array = response.split('<table')\n",
    "    tr_array = table_array[1].split('<tr')\n",
    "    \n",
    "    # 拆解td\n",
    "    data = []\n",
    "    index = []\n",
    "    column = []\n",
    "    for i in range(len(tr_array)):\n",
    "        td_array = tr_array[i].split('<td')\n",
    "        if(len(td_array)>1):\n",
    "            code = remove_td(td_array[1])\n",
    "            name = remove_td(td_array[2])\n",
    "            revenue  = remove_td(td_array[3])\n",
    "            profitRatio = remove_td(td_array[4])\n",
    "            profitMargin = remove_td(td_array[5])\n",
    "            preTaxIncomeMargin = remove_td(td_array[6])\n",
    "            afterTaxIncomeMargin = remove_td(td_array[7])\n",
    "            if(is_float(code)):\n",
    "                data.append([code, revenue, profitRatio, profitMargin, preTaxIncomeMargin, afterTaxIncomeMargin])\n",
    "                index.append(name)\n",
    "            if( i == 1 ):\n",
    "                column.append(code)\n",
    "                column.append(revenue)\n",
    "                column.append(profitRatio)\n",
    "                column.append(profitMargin)\n",
    "                column.append(preTaxIncomeMargin)\n",
    "                column.append(afterTaxIncomeMargin)\n",
    "                \n",
    "    return pd.DataFrame(data=data, index=index, columns=column, dtype='float64')\n",
    "\n",
    "def financial_statement(year, season):\n",
    "\n",
    "    if year >= 1000:\n",
    "        year -= 1911\n",
    "        \n",
    "    url = 'http://mops.twse.com.tw/mops/web/ajax_t163sb06'\n",
    "    form_data = {\n",
    "        'encodeURIComponent':1,\n",
    "        'step':1,\n",
    "        'firstin':1,\n",
    "        'off':1,\n",
    "        'TYPEK':'sii',\n",
    "        'year': year,\n",
    "        'season': season,\n",
    "    }\n",
    "\n",
    "    response = requests.post(url,form_data)\n",
    "    response.encoding = 'utf8'\n",
    "    \n",
    "    df = translate_dataFrame(response.text)\n",
    "    return df\n",
    "\n",
    "stock = financial_statement(107,2)\n",
    "stock = stock.astype(float)\n",
    "stock.head()"
   ]
  },
  {
   "cell_type": "code",
   "execution_count": 2,
   "metadata": {},
   "outputs": [
    {
     "data": {
      "text/plain": [
       "<Response [200]>"
      ]
     },
     "execution_count": 2,
     "metadata": {},
     "output_type": "execute_result"
    }
   ],
   "source": [
    "import requests\n",
    "response = requests.get(\n",
    "    \"https://travel.ettoday.net/category/%E6%A1%83%E5%9C%92/\")\n",
    "response"
   ]
  }
 ],
 "metadata": {
  "kernelspec": {
   "display_name": "Python 3",
   "language": "python",
   "name": "python3"
  },
  "language_info": {
   "codemirror_mode": {
    "name": "ipython",
    "version": 3
   },
   "file_extension": ".py",
   "mimetype": "text/x-python",
   "name": "python",
   "nbconvert_exporter": "python",
   "pygments_lexer": "ipython3",
   "version": "3.7.1"
  }
 },
 "nbformat": 4,
 "nbformat_minor": 2
}
