{
 "cells": [
  {
   "cell_type": "code",
   "execution_count": 5,
   "metadata": {},
   "outputs": [
    {
     "name": "stdout",
     "output_type": "stream",
     "text": [
      "62\n",
      "20\n",
      "30\n"
     ]
    },
    {
     "data": {
      "text/plain": [
       "80"
      ]
     },
     "execution_count": 5,
     "metadata": {},
     "output_type": "execute_result"
    }
   ],
   "source": [
    "def multiply(n1,n2):  # 函式 = function功能\n",
    "    return n1*n2      # 回傳\n",
    "\n",
    "value=multiply(3,4)+multiply(10,5)\n",
    "\n",
    "print(value)\n",
    "\n",
    "multiply(3,4)\n",
    "print(20)\n",
    "print(30)\n",
    "multiply(10,8)"
   ]
  },
  {
   "cell_type": "code",
   "execution_count": null,
   "metadata": {},
   "outputs": [],
   "source": [
    "#ch10. Python 函式參數詳解：參數預設值、名稱對應、任意長度參數\n",
    "\n",
    "# 解釋 function overloading"
   ]
  },
  {
   "cell_type": "code",
   "execution_count": 8,
   "metadata": {},
   "outputs": [
    {
     "name": "stdout",
     "output_type": "stream",
     "text": [
      "55\n",
      "210\n"
     ]
    }
   ],
   "source": [
    "def calculate(max):\n",
    "    sum=0\n",
    "    for n in range(1,max+1):\n",
    "        sum=sum+n\n",
    "    print(sum)\n",
    "    \n",
    "calculate(10)\n",
    "calculate(20)"
   ]
  },
  {
   "cell_type": "code",
   "execution_count": 1,
   "metadata": {},
   "outputs": [
    {
     "name": "stdout",
     "output_type": "stream",
     "text": [
      "9\n",
      "1\n"
     ]
    }
   ],
   "source": [
    "def power(base,exp=0):\n",
    "    print(base**exp)\n",
    "power(3,2)\n",
    "power(4)"
   ]
  },
  {
   "cell_type": "code",
   "execution_count": 2,
   "metadata": {},
   "outputs": [
    {
     "name": "stdout",
     "output_type": "stream",
     "text": [
      "0.5\n",
      "2.0\n"
     ]
    }
   ],
   "source": [
    "def divide(n1,n2):\n",
    "    print(n1/n2)\n",
    "divide(2,4)\n",
    "divide(n2=2,n1=4)"
   ]
  },
  {
   "cell_type": "code",
   "execution_count": 3,
   "metadata": {},
   "outputs": [
    {
     "name": "stdout",
     "output_type": "stream",
     "text": [
      "3.5\n",
      "6.0\n",
      "-1.0\n"
     ]
    }
   ],
   "source": [
    "def avg(*ns):\n",
    "    sum=0\n",
    "    for n in ns:\n",
    "        sum=sum+n\n",
    "    print(sum/len(ns))\n",
    "avg(3,4)\n",
    "avg(3,5,10)\n",
    "avg(1,4,-1,-8)"
   ]
  },
  {
   "cell_type": "code",
   "execution_count": null,
   "metadata": {},
   "outputs": [],
   "source": []
  }
 ],
 "metadata": {
  "kernelspec": {
   "display_name": "Python 3",
   "language": "python",
   "name": "python3"
  },
  "language_info": {
   "codemirror_mode": {
    "name": "ipython",
    "version": 3
   },
   "file_extension": ".py",
   "mimetype": "text/x-python",
   "name": "python",
   "nbconvert_exporter": "python",
   "pygments_lexer": "ipython3",
   "version": "3.7.1"
  }
 },
 "nbformat": 4,
 "nbformat_minor": 4
}
