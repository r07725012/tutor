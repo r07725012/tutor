{
 "cells": [
  {
   "cell_type": "code",
   "execution_count": 2,
   "metadata": {},
   "outputs": [
    {
     "name": "stdout",
     "output_type": "stream",
     "text": [
      "0\n",
      "1\n",
      "2\n",
      "最後的n: 3\n"
     ]
    }
   ],
   "source": [
    "n=0\n",
    "while n<5:\n",
    "    if n==3:\n",
    "        break\n",
    "    print(n)\n",
    "    n+=1 # n=n+1\n",
    "print(\"最後的n:\",n)\n"
   ]
  },
  {
   "cell_type": "code",
   "execution_count": 1,
   "metadata": {},
   "outputs": [
    {
     "name": "stdout",
     "output_type": "stream",
     "text": [
      "1\n",
      "3\n",
      "最後的n: 2\n"
     ]
    }
   ],
   "source": [
    "n=0\n",
    "for x in [0,1,2,3]:\n",
    "    if x%2==0: # %: mode\n",
    "        continue\n",
    "    print(x)\n",
    "    n+=1 # n =1,2\n",
    "    \n",
    "    \n",
    "    \n",
    "    \n",
    "    \n",
    "    \n",
    "print(\"最後的n:\",n)"
   ]
  },
  {
   "cell_type": "code",
   "execution_count": null,
   "metadata": {},
   "outputs": [],
   "source": [
    " 7 / 5 = 1 ...2\n",
    " 3 / 5 = 0 .... 3   \n",
    " 4 / 5 = 0 ... 4"
   ]
  },
  {
   "cell_type": "code",
   "execution_count": 5,
   "metadata": {},
   "outputs": [
    {
     "name": "stdout",
     "output_type": "stream",
     "text": [
      "55\n"
     ]
    }
   ],
   "source": [
    "sum=0\n",
    "for n in range(11):\n",
    "    sum+=n # sum =sum +n = 0+1+2+3+4+5+...+10     sum = 0,1,3,6,10,15,21,28,36,45,55\n",
    "else:\n",
    "    print(sum)"
   ]
  },
  {
   "cell_type": "code",
   "execution_count": 6,
   "metadata": {},
   "outputs": [
    {
     "name": "stdout",
     "output_type": "stream",
     "text": [
      "0\n",
      "1\n",
      "2\n",
      "3\n",
      "4\n",
      "5\n",
      "6\n",
      "7\n",
      "8\n",
      "9\n",
      "10\n"
     ]
    }
   ],
   "source": [
    "for n in range(11):\n",
    "    print(n)"
   ]
  },
  {
   "cell_type": "code",
   "execution_count": 5,
   "metadata": {},
   "outputs": [
    {
     "name": "stdout",
     "output_type": "stream",
     "text": [
      "輸入一個正整數:15\n",
      "沒有整數平方根\n"
     ]
    }
   ],
   "source": [
    "n=input('輸入一個正整數:')\n",
    "n=int(n)\n",
    "for i in range(n): # i = 0~14 (0,1,2,3,4,5,6,7,8....14)\n",
    "    if i*i==n:\n",
    "        print('整數平方根',i)\n",
    "        break\n",
    "else:\n",
    "    print(\"沒有整數平方根\")"
   ]
  },
  {
   "cell_type": "code",
   "execution_count": 10,
   "metadata": {},
   "outputs": [
    {
     "name": "stdout",
     "output_type": "stream",
     "text": [
      "['Google', 'Runoob', 'Taobao', 'Facebook']\n"
     ]
    }
   ],
   "source": [
    "txt = \"Google,Runoob,Taobao,Facebook\"\n",
    " \n",
    "# 第二个参数为 1，返回两个参数列表\n",
    "x = txt.split(\",\")\n",
    " \n",
    "print(x)"
   ]
  }
 ],
 "metadata": {
  "kernelspec": {
   "display_name": "Python 3",
   "language": "python",
   "name": "python3"
  },
  "language_info": {
   "codemirror_mode": {
    "name": "ipython",
    "version": 3
   },
   "file_extension": ".py",
   "mimetype": "text/x-python",
   "name": "python",
   "nbconvert_exporter": "python",
   "pygments_lexer": "ipython3",
   "version": "3.7.1"
  }
 },
 "nbformat": 4,
 "nbformat_minor": 4
}
