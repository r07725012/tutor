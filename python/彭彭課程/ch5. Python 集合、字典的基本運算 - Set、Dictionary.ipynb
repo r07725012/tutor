{
 "cells": [
  {
   "cell_type": "code",
   "execution_count": null,
   "metadata": {},
   "outputs": [],
   "source": [
    "s1={3,4,5}\n",
    "print(10 in s1)\n",
    "\n",
    "\n",
    "s1={3,4,5}\n",
    "s2={4,5,6,7}\n",
    "s3=s1&s2\n",
    "\n",
    "\n",
    "s3=s1|s2\n",
    "s3=s1-s2\n",
    "s3=s1^s2\n",
    "print(s3)"
   ]
  },
  {
   "cell_type": "code",
   "execution_count": 6,
   "metadata": {},
   "outputs": [
    {
     "data": {
      "text/plain": [
       "{3, 6, 7}"
      ]
     },
     "execution_count": 6,
     "metadata": {},
     "output_type": "execute_result"
    }
   ],
   "source": [
    "s1={3,4,5}\n",
    "s2={4,5,6,7}\n",
    "s3=s1^s2\n",
    "s3"
   ]
  },
  {
   "cell_type": "code",
   "execution_count": 10,
   "metadata": {},
   "outputs": [
    {
     "data": {
      "text/plain": [
       "{'a', 'b', 'n'}"
      ]
     },
     "execution_count": 10,
     "metadata": {},
     "output_type": "execute_result"
    }
   ],
   "source": [
    "set('banana')"
   ]
  },
  {
   "cell_type": "code",
   "execution_count": 11,
   "metadata": {},
   "outputs": [
    {
     "data": {
      "text/plain": [
       "{'e', 'h', 'l', 'o'}"
      ]
     },
     "execution_count": 11,
     "metadata": {},
     "output_type": "execute_result"
    }
   ],
   "source": [
    "s=set(\"hello\")\n",
    "s"
   ]
  },
  {
   "cell_type": "code",
   "execution_count": 12,
   "metadata": {},
   "outputs": [
    {
     "name": "stdout",
     "output_type": "stream",
     "text": [
      "False\n"
     ]
    }
   ],
   "source": [
    "s=set(\"hello\")\n",
    "print(\"A\"in s)"
   ]
  },
  {
   "cell_type": "code",
   "execution_count": 19,
   "metadata": {},
   "outputs": [
    {
     "name": "stdout",
     "output_type": "stream",
     "text": [
      "False\n"
     ]
    }
   ],
   "source": [
    "# dic={\"apple\":\"蘋果\",\"bug\":\"蟲蟲\"}\n",
    "# dic[\"apple\"]=\"小蘋果\"\n",
    "# print(dic[\"apple\"])\n",
    "\n",
    "\n",
    "\n",
    "\n",
    "dic={\"apple\":\"蘋果\",\"bug\":\"蟲蟲\"}\n",
    "print(\"蘋果\" in dic)"
   ]
  },
  {
   "cell_type": "code",
   "execution_count": 5,
   "metadata": {},
   "outputs": [
    {
     "name": "stdout",
     "output_type": "stream",
     "text": [
      "{'apple': '蘋果', 'bug': '蟲蟲'}\n",
      "{3: 6, 4: 8, 5: 10}\n"
     ]
    }
   ],
   "source": [
    "dic={\"apple\":\"蘋果\",\"bug\":\"蟲蟲\"}\n",
    "print(dic)\n",
    "dic={x:x*2 for x in[3,4,5]}\n",
    "print(dic)"
   ]
  },
  {
   "cell_type": "code",
   "execution_count": 22,
   "metadata": {},
   "outputs": [
    {
     "name": "stdout",
     "output_type": "stream",
     "text": [
      "{3: 6, 4: 8, 5: 10}\n"
     ]
    }
   ],
   "source": [
    "dic={x:x*2 for x in [3,4,5]}\n",
    "print(dic)"
   ]
  }
 ],
 "metadata": {
  "kernelspec": {
   "display_name": "Python 3",
   "language": "python",
   "name": "python3"
  },
  "language_info": {
   "codemirror_mode": {
    "name": "ipython",
    "version": 3
   },
   "file_extension": ".py",
   "mimetype": "text/x-python",
   "name": "python",
   "nbconvert_exporter": "python",
   "pygments_lexer": "ipython3",
   "version": "3.7.1"
  }
 },
 "nbformat": 4,
 "nbformat_minor": 4
}
