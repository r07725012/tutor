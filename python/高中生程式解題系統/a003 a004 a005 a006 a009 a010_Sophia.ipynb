{
 "cells": [
  {
   "cell_type": "code",
   "execution_count": null,
   "metadata": {},
   "outputs": [],
   "source": [
    "#a003\n",
    "lucky = {0:\"普通\", 1:\"吉\", 2:\"大吉\"}\n",
    "\n",
    "while True:\n",
    "    try:\n",
    "        M, D = map(int, input().split())\n",
    "        print(lucky[(M * 2 + D) % 3])\n",
    "    except(EOFError):\n",
    "        break"
   ]
  },
  {
   "cell_type": "code",
   "execution_count": null,
   "metadata": {},
   "outputs": [],
   "source": [
    "#a004\n",
    "while True:\n",
    "    try:\n",
    "        n = int(input())\n",
    "        \n",
    "        if (n % 4 == 0 and n % 100 != 0) or n % 400 == 0:\n",
    "            print(\"閏年\")\n",
    "        else:\n",
    "            print(\"平年\")\n",
    "            \n",
    "    except(EOFError):\n",
    "        break"
   ]
  },
  {
   "cell_type": "code",
   "execution_count": null,
   "metadata": {},
   "outputs": [],
   "source": [
    "#a005\n",
    "m = int(input())\n",
    "\n",
    "for _ in range(m):\n",
    "    n = list(map(int, input().split()))\n",
    "    \n",
    "    if n[1]-n[0] == n[2]-n[1]:\n",
    "        n.append(n[3] + (n[1]-n[0]))\n",
    "    else:\n",
    "        n.append(n[3] * (n[1]//n[0]))\n",
    "    \n",
    "    print(\" \".join([str(c) for c in n]))"
   ]
  },
  {
   "cell_type": "code",
   "execution_count": null,
   "metadata": {},
   "outputs": [],
   "source": [
    "#a006\n",
    "while True:\n",
    "    try:\n",
    "        a, b, c = list(map(int, input().split()))\n",
    "        \n",
    "        if b**2 - 4*a*c >= 0:\n",
    "            a1 = (-1*b + ((b**2 - 4*a*c) ** 0.5)) / (2*a)\n",
    "            a2 = (-1*b - ((b**2 - 4*a*c) ** 0.5)) / (2*a)\n",
    "        \n",
    "            x1 = int(max(a1, a2))\n",
    "            x2 = int(min(a1, a2))\n",
    "        \n",
    "            if x1 != x2:\n",
    "                print(\"Two different roots x1={} , x2={}\".format(x1, x2))\n",
    "            elif  x1 == x2:\n",
    "                print(\"Two same roots x={}\".format(x1))\n",
    "            else:\n",
    "                print(\"No real root\")\n",
    "        else:\n",
    "            print(\"No real root\")\n",
    "            \n",
    "    except(EOFError):\n",
    "        break"
   ]
  },
  {
   "cell_type": "code",
   "execution_count": null,
   "metadata": {},
   "outputs": [],
   "source": [
    "#a009\n",
    "while True:\n",
    "    try:\n",
    "        n = input()    \n",
    "        print(\"\".join([chr(ord(c)-7) for c in n])) \n",
    "        \n",
    "    except(EOFError):\n",
    "        break"
   ]
  },
  {
   "cell_type": "code",
   "execution_count": null,
   "metadata": {},
   "outputs": [],
   "source": [
    "#a010\n",
    "while True:\n",
    "    try:\n",
    "        n = int(input())\n",
    "        \n",
    "        x = 2       \n",
    "        count = 0   \n",
    "        ans = \"\"\n",
    "        chk = 0     \n",
    "        while True:\n",
    "            if n % x == 0:\n",
    "                count += 1\n",
    "                n //= x\n",
    "                continue\n",
    "            if n % x != 0 or x > n:\n",
    "                if count == 0:\n",
    "                    x += 1\n",
    "                    continue\n",
    "                if chk != 0:\n",
    "                    ans = ans + \" * \"\n",
    "                \n",
    "                if count > 1:\n",
    "                    ans = ans + \"{}^{}\".format(x, count)\n",
    "                elif count == 1:\n",
    "                    ans = ans + \"{}\".format(x)\n",
    "                    \n",
    "                x += 1\n",
    "                count = 0\n",
    "                chk = 1\n",
    "                    \n",
    "                if x > n:\n",
    "                    break\n",
    "        \n",
    "        print(ans)        \n",
    "        \n",
    "    except(EOFError):\n",
    "        break"
   ]
  },
  {
   "cell_type": "code",
   "execution_count": null,
   "metadata": {},
   "outputs": [],
   "source": []
  }
 ],
 "metadata": {
  "kernelspec": {
   "display_name": "Python 3",
   "language": "python",
   "name": "python3"
  },
  "language_info": {
   "codemirror_mode": {
    "name": "ipython",
    "version": 3
   },
   "file_extension": ".py",
   "mimetype": "text/x-python",
   "name": "python",
   "nbconvert_exporter": "python",
   "pygments_lexer": "ipython3",
   "version": "3.7.1"
  }
 },
 "nbformat": 4,
 "nbformat_minor": 4
}
