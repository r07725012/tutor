{
 "cells": [
  {
   "cell_type": "code",
   "execution_count": null,
   "metadata": {},
   "outputs": [],
   "source": [
    "# 提示：\n",
    "# ord()函數主要用來返回對應字符的ascii碼\n",
    "# 解碼規則：把明碼的每個字-7\n",
    "# ex: ord('j')-ord('c') = 7\n",
    "# ascii碼:http://kevin.hwai.edu.tw/~kevin/material/JAVA/Sample2016/ASCII.htm"
   ]
  },
  {
   "cell_type": "code",
   "execution_count": 4,
   "metadata": {},
   "outputs": [],
   "source": [
    "# 範例輸入(明碼)：1JKJ'pz'{ol'{yhklthyr'vm'{ol'Jvu{yvs'Kh{h'Jvywvyh{pvu5\n",
    "# 範例輸出：*CDC is the trademark of the Control Data Corporation."
   ]
  },
  {
   "cell_type": "code",
   "execution_count": 3,
   "metadata": {},
   "outputs": [
    {
     "name": "stdout",
     "output_type": "stream",
     "text": [
      "1JKJ'pz'{ol'{yhklthyr'vm'{ol'Jvu{yvs'Kh{h'Jvywvyh{pvu5\n",
      "*CDC is the trademark of the Control Data Corporation."
     ]
    }
   ],
   "source": [
    "word = input()\n",
    "for i in word:\n",
    "    print(chr(ord(i)-7), end='')"
   ]
  }
 ],
 "metadata": {
  "kernelspec": {
   "display_name": "Python 3",
   "language": "python",
   "name": "python3"
  },
  "language_info": {
   "codemirror_mode": {
    "name": "ipython",
    "version": 3
   },
   "file_extension": ".py",
   "mimetype": "text/x-python",
   "name": "python",
   "nbconvert_exporter": "python",
   "pygments_lexer": "ipython3",
   "version": "3.7.1"
  }
 },
 "nbformat": 4,
 "nbformat_minor": 2
}
