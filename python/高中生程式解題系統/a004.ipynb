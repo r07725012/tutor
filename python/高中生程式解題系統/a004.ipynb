{
 "cells": [
  {
   "cell_type": "code",
   "execution_count": 2,
   "metadata": {},
   "outputs": [
    {
     "name": "stdout",
     "output_type": "stream",
     "text": [
      "2000\n",
      "閏年\n",
      "19\n",
      "平年\n",
      ",\n"
     ]
    }
   ],
   "source": [
    "while 1:\n",
    "    try:\n",
    "        a = int(input()) # input 一次讀入一行\n",
    "    except:\n",
    "        break\n",
    "        \n",
    "    if a%4 == 0 and a%100 != 0 or a%400 == 0:\n",
    "        print('閏年')\n",
    "    else:\n",
    "        print('平年')"
   ]
  },
  {
   "cell_type": "code",
   "execution_count": 1,
   "metadata": {},
   "outputs": [
    {
     "name": "stdout",
     "output_type": "stream",
     "text": [
      "123\n",
      "123\n",
      "456\n",
      "456\n",
      "   \n"
     ]
    }
   ],
   "source": [
    "while 1:\n",
    "    try:\n",
    "        a = int(input()) # input 一次讀入一行\n",
    "        print(a)\n",
    "    except:\n",
    "        break"
   ]
  }
 ],
 "metadata": {
  "kernelspec": {
   "display_name": "Python 3",
   "language": "python",
   "name": "python3"
  },
  "language_info": {
   "codemirror_mode": {
    "name": "ipython",
    "version": 3
   },
   "file_extension": ".py",
   "mimetype": "text/x-python",
   "name": "python",
   "nbconvert_exporter": "python",
   "pygments_lexer": "ipython3",
   "version": "3.7.1"
  }
 },
 "nbformat": 4,
 "nbformat_minor": 2
}
