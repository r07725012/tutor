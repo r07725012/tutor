{
 "cells": [
  {
   "cell_type": "code",
   "execution_count": 5,
   "metadata": {},
   "outputs": [
    {
     "name": "stdout",
     "output_type": "stream",
     "text": [
      "1 2\n",
      "b ['1', '2']\n",
      "吉\n"
     ]
    }
   ],
   "source": [
    "a = input()\n",
    "b = a.split()\n",
    "print('b',b)\n",
    "\n",
    "\n",
    "month = int(b[0])\n",
    "day = int(b[1])\n",
    "\n",
    "\n",
    "s = (month*2 + day)%3\n",
    "if s == 0:\n",
    "    print('普通')\n",
    "elif s == 1:\n",
    "    print('吉')\n",
    "else:\n",
    "    print('大吉')"
   ]
  },
  {
   "cell_type": "code",
   "execution_count": 4,
   "metadata": {},
   "outputs": [
    {
     "name": "stdout",
     "output_type": "stream",
     "text": [
      "1 2\n",
      "['1', '2']\n"
     ]
    }
   ],
   "source": [
    "a = input()\n",
    "b = a.split()\n",
    "print(b)"
   ]
  },
  {
   "cell_type": "code",
   "execution_count": 3,
   "metadata": {},
   "outputs": [
    {
     "name": "stdout",
     "output_type": "stream",
     "text": [
      "1 2 3\n",
      "['1', '2', '3']\n"
     ]
    }
   ],
   "source": [
    "a = input()\n",
    "b = a.split()\n",
    "print(b)"
   ]
  },
  {
   "cell_type": "code",
   "execution_count": 4,
   "metadata": {},
   "outputs": [
    {
     "data": {
      "text/plain": [
       "1"
      ]
     },
     "execution_count": 4,
     "metadata": {},
     "output_type": "execute_result"
    }
   ],
   "source": [
    "a = '1'\n",
    "int(a)"
   ]
  }
 ],
 "metadata": {
  "kernelspec": {
   "display_name": "Python 3",
   "language": "python",
   "name": "python3"
  },
  "language_info": {
   "codemirror_mode": {
    "name": "ipython",
    "version": 3
   },
   "file_extension": ".py",
   "mimetype": "text/x-python",
   "name": "python",
   "nbconvert_exporter": "python",
   "pygments_lexer": "ipython3",
   "version": "3.7.1"
  }
 },
 "nbformat": 4,
 "nbformat_minor": 2
}
