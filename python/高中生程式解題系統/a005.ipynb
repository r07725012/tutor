{
 "cells": [
  {
   "cell_type": "code",
   "execution_count": 8,
   "metadata": {},
   "outputs": [
    {
     "name": "stdout",
     "output_type": "stream",
     "text": [
      "2\n",
      "1 2 4 8\n",
      "1 2 4 8 16\n",
      "1 3 5 7\n",
      "1 3 5 7 9\n"
     ]
    }
   ],
   "source": [
    "line_num = int(input())\n",
    "for _ in range(line_num):\n",
    "    line = input()\n",
    "    num_list = line.split()\n",
    "    num_list = [int(num) for num in num_list]\n",
    "    num_1 = num_list[0]\n",
    "    num_2 = num_list[1]\n",
    "    num_3 = num_list[2]\n",
    "    \n",
    "    # 檢查等比數列\n",
    "    if num_2 - num_1 == num_3 - num_2:\n",
    "        print(line+' '+str(num_list[-1] + num_3 - num_2))\n",
    "    \n",
    "    # 檢查等差數列\n",
    "    else:\n",
    "        print(line+' '+str(int(num_list[-1] * (num_3/num_2))))\n",
    "    \n",
    "    \n"
   ]
  }
 ],
 "metadata": {
  "kernelspec": {
   "display_name": "Python 3",
   "language": "python",
   "name": "python3"
  },
  "language_info": {
   "codemirror_mode": {
    "name": "ipython",
    "version": 3
   },
   "file_extension": ".py",
   "mimetype": "text/x-python",
   "name": "python",
   "nbconvert_exporter": "python",
   "pygments_lexer": "ipython3",
   "version": "3.7.1"
  }
 },
 "nbformat": 4,
 "nbformat_minor": 2
}
