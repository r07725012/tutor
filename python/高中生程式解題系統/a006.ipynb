{
 "cells": [
  {
   "cell_type": "markdown",
   "metadata": {},
   "source": [
    "參考資料\n",
    "http://siro.moe.edu.tw/teach/index.php?n=0&m=0&cmd=content&sb=3&v=3&p=437"
   ]
  },
  {
   "cell_type": "code",
   "execution_count": 21,
   "metadata": {},
   "outputs": [
    {
     "name": "stdout",
     "output_type": "stream",
     "text": [
      "1 0 0\n",
      "Two same roots x=0\n"
     ]
    }
   ],
   "source": [
    "input_list = input().split()\n",
    "input_list = [int(i) for i in input_list] # convert string to int\n",
    "a = input_list[0]\n",
    "b = input_list[1]\n",
    "c = input_list[2]\n",
    "\n",
    "judge_root_cnt = b**2-4*a*c\n",
    "\n",
    "\n",
    "if judge_root_cnt < 0:\n",
    "    print('No real root')\n",
    "elif judge_root_cnt > 0:\n",
    "    x1 = (-b + (judge_root_cnt)**0.5)/(2*a)\n",
    "    x2 = (-b - (judge_root_cnt)**0.5)/(2*a)\n",
    "    print('Two different roots x1=' + str(int(x1)) + ' , ' + 'x2=' + str(int(x2)))\n",
    "elif judge_root_cnt == 0:\n",
    "    x1 = (-b + (judge_root_cnt)**0.5)/(2*a)\n",
    "    print('Two same roots x=' + str(int(x1)))\n",
    "    \n",
    "    \n",
    "    \n",
    "\n",
    "\n",
    "# print(x)\n",
    "\n",
    "\n",
    "\n",
    "\n",
    "\n"
   ]
  }
 ],
 "metadata": {
  "kernelspec": {
   "display_name": "Python 3",
   "language": "python",
   "name": "python3"
  },
  "language_info": {
   "codemirror_mode": {
    "name": "ipython",
    "version": 3
   },
   "file_extension": ".py",
   "mimetype": "text/x-python",
   "name": "python",
   "nbconvert_exporter": "python",
   "pygments_lexer": "ipython3",
   "version": "3.7.1"
  }
 },
 "nbformat": 4,
 "nbformat_minor": 2
}
