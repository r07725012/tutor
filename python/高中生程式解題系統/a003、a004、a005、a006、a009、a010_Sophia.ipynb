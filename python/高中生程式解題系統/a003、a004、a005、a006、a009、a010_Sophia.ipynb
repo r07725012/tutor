{
 "cells": [
  {
   "cell_type": "code",
   "execution_count": 8,
   "metadata": {},
   "outputs": [
    {
     "name": "stdout",
     "output_type": "stream",
     "text": [
      "2 3\n",
      "1\n",
      "吉\n"
     ]
    }
   ],
   "source": [
    "#a003\n",
    "import sys\n",
    "# for line in input():\n",
    "\n",
    "\n",
    "line = input() # sys.stdin 改為 input\n",
    "a,b = line.split()\n",
    "\n",
    "# print(type(a),type(b))\n",
    "# print(a*5)\n",
    "\n",
    "result = (int(a)*2 + int(b))%3\n",
    "print(result)\n",
    "\n",
    "\n",
    "if result == 0:\n",
    "    print('普通')\n",
    "elif result== 1:\n",
    "    print('吉')\n",
    "else:\n",
    "    print('大吉')"
   ]
  },
  {
   "cell_type": "code",
   "execution_count": null,
   "metadata": {},
   "outputs": [],
   "source": []
  },
  {
   "cell_type": "code",
   "execution_count": 2,
   "metadata": {},
   "outputs": [
    {
     "ename": "NameError",
     "evalue": "name 'result' is not defined",
     "output_type": "error",
     "traceback": [
      "\u001b[1;31m---------------------------------------------------------------------------\u001b[0m",
      "\u001b[1;31mNameError\u001b[0m                                 Traceback (most recent call last)",
      "\u001b[1;32m<ipython-input-2-823e17eb218a>\u001b[0m in \u001b[0;36m<module>\u001b[1;34m\u001b[0m\n\u001b[0;32m      6\u001b[0m \u001b[1;33m\u001b[0m\u001b[0m\n\u001b[0;32m      7\u001b[0m \u001b[1;33m\u001b[0m\u001b[0m\n\u001b[1;32m----> 8\u001b[1;33m \u001b[1;32mif\u001b[0m \u001b[0mresult\u001b[0m \u001b[1;33m==\u001b[0m \u001b[1;36m0\u001b[0m\u001b[1;33m:\u001b[0m\u001b[1;33m\u001b[0m\u001b[1;33m\u001b[0m\u001b[0m\n\u001b[0m\u001b[0;32m      9\u001b[0m     \u001b[0mprint\u001b[0m\u001b[1;33m(\u001b[0m\u001b[1;34m'普通'\u001b[0m\u001b[1;33m)\u001b[0m\u001b[1;33m\u001b[0m\u001b[1;33m\u001b[0m\u001b[0m\n\u001b[0;32m     10\u001b[0m \u001b[1;32melif\u001b[0m \u001b[0mresult\u001b[0m\u001b[1;33m==\u001b[0m \u001b[1;36m1\u001b[0m\u001b[1;33m:\u001b[0m\u001b[1;33m\u001b[0m\u001b[1;33m\u001b[0m\u001b[0m\n",
      "\u001b[1;31mNameError\u001b[0m: name 'result' is not defined"
     ]
    }
   ],
   "source": [
    "#a003\n",
    "import sys\n",
    "for line in sys.stdin:\n",
    "    a,b = line.split()\n",
    "    result = (int(a*2) + int(b))%3\n",
    "\n",
    "\n",
    "if result == 0:\n",
    "    print('普通')\n",
    "elif result== 1:\n",
    "    print('吉')\n",
    "else:\n",
    "    print('大吉')"
   ]
  },
  {
   "cell_type": "code",
   "execution_count": 5,
   "metadata": {},
   "outputs": [
    {
     "ename": "NameError",
     "evalue": "name 'result' is not defined",
     "output_type": "error",
     "traceback": [
      "\u001b[1;31m---------------------------------------------------------------------------\u001b[0m",
      "\u001b[1;31mNameError\u001b[0m                                 Traceback (most recent call last)",
      "\u001b[1;32m<ipython-input-5-05629b4013c7>\u001b[0m in \u001b[0;36m<module>\u001b[1;34m\u001b[0m\n\u001b[0;32m      5\u001b[0m     \u001b[0mresult\u001b[0m \u001b[1;33m=\u001b[0m \u001b[1;33m(\u001b[0m\u001b[0mint\u001b[0m\u001b[1;33m(\u001b[0m\u001b[0ma\u001b[0m\u001b[1;33m*\u001b[0m\u001b[1;36m2\u001b[0m\u001b[1;33m)\u001b[0m \u001b[1;33m+\u001b[0m \u001b[0mint\u001b[0m\u001b[1;33m(\u001b[0m\u001b[0mb\u001b[0m\u001b[1;33m)\u001b[0m\u001b[1;33m)\u001b[0m\u001b[1;33m%\u001b[0m\u001b[1;36m3\u001b[0m\u001b[1;33m\u001b[0m\u001b[1;33m\u001b[0m\u001b[0m\n\u001b[0;32m      6\u001b[0m \u001b[1;33m\u001b[0m\u001b[0m\n\u001b[1;32m----> 7\u001b[1;33m \u001b[1;32mif\u001b[0m \u001b[0mresult\u001b[0m \u001b[1;33m==\u001b[0m \u001b[1;36m0\u001b[0m\u001b[1;33m:\u001b[0m\u001b[1;33m\u001b[0m\u001b[1;33m\u001b[0m\u001b[0m\n\u001b[0m\u001b[0;32m      8\u001b[0m     \u001b[0mprint\u001b[0m\u001b[1;33m(\u001b[0m\u001b[1;34m'普通'\u001b[0m\u001b[1;33m)\u001b[0m\u001b[1;33m\u001b[0m\u001b[1;33m\u001b[0m\u001b[0m\n\u001b[0;32m      9\u001b[0m \u001b[1;33m\u001b[0m\u001b[0m\n",
      "\u001b[1;31mNameError\u001b[0m: name 'result' is not defined"
     ]
    }
   ],
   "source": [
    "#a003\n",
    "import sys\n",
    "for line in sys.stdin:\n",
    "    a,b = line.split()\n",
    "    result = (int(a*2) + int(b))%3\n",
    "\n",
    "if result == 0:\n",
    "    print('普通')\n",
    "\n"
   ]
  },
  {
   "cell_type": "code",
   "execution_count": null,
   "metadata": {},
   "outputs": [],
   "source": [
    "#a004\n",
    "while T:\n",
    "    try:\n",
    "        x = int(input())\n",
    "        \n",
    "    except:\n",
    "        break\n",
    "\n",
    "    if x % 4 == 0 and x % 100 != 0 or x % 400 == 0:\n",
    "        print(\"閏年\")\n",
    "    else:\n",
    "        print(\"平年\")"
   ]
  },
  {
   "cell_type": "code",
   "execution_count": 1,
   "metadata": {},
   "outputs": [],
   "source": [
    "#a005\n",
    "import sys\n",
    "for line in sys.stdin:\n",
    "    n,=line.split()\n",
    "    n=int(n)\n",
    "    for i in range(n):\n",
    "        line=sys.stdin.readline()\n",
    "        a,b,c,d=line.split()\n",
    "        a,b,c,d=int(a),int(b),int(c),int(d)\n",
    "        if (b-a)==(d-c):    # 等差數列\n",
    "            print(a,b,c,d,d+(d-c))\n",
    "        else:   # 等比數列\n",
    "            print(a,b,c,d,int(d*(d/c)))"
   ]
  },
  {
   "cell_type": "code",
   "execution_count": null,
   "metadata": {},
   "outputs": [],
   "source": [
    "#a006\n",
    "while True:\n",
    "    try:\n",
    "        a, b, c = map(int, input().split())\n",
    "        D = b ** 2 - 4 * a * c\n",
    "        if D > 0:\n",
    "            x1 = int((-b + D ** 0.5) / (2 * a))\n",
    "            x2 = int((-b - D ** 0.5) / (2 * a))\n",
    "            print(\"Two different roots x1=\" + str(x1) + \" , x2=\" + str(x2))\n",
    "        elif D == 0:\n",
    "            x = int(-b / (2 * a))\n",
    "            print(\"Two same roots x=\" + str(x))\n",
    "        else:\n",
    "            print(\"No real root\")\n",
    "    except:\n",
    "        break"
   ]
  },
  {
   "cell_type": "code",
   "execution_count": null,
   "metadata": {},
   "outputs": [],
   "source": [
    "#a009\n",
    "k = -7\n",
    " \n",
    "while True:\n",
    "    try:\n",
    "        s = input()\n",
    "        ans = \"\"\n",
    "        for i in range(len(s)):\n",
    "            ans += chr(ord(s[i]) + k)\n",
    "        print(ans)\n",
    "    except:\n",
    "        break"
   ]
  },
  {
   "cell_type": "code",
   "execution_count": null,
   "metadata": {},
   "outputs": [],
   "source": [
    "#a010\n",
    "import sys\n",
    " \n",
    "lines = sys.stdin.readlines()\n",
    "for line in lines:\n",
    "    n = int(line)\n",
    "    ans = \"\"\n",
    "    first = True\n",
    "    for b in range(2, n+1):\n",
    "        p = 0\n",
    "        while n % b == 0:\n",
    "            p += 1\n",
    "            n //= b\n",
    "        if p:\n",
    "            if first:\n",
    "                first = False\n",
    "            else:\n",
    "                ans += \" * \"\n",
    "                 \n",
    "            if p > 1:\n",
    "                ans += f\"{b}^{p}\"\n",
    "            else:\n",
    "                ans += f\"{b}\"\n",
    "                 \n",
    "        if n == 1:\n",
    "            break;\n",
    "    print(ans)"
   ]
  },
  {
   "cell_type": "code",
   "execution_count": null,
   "metadata": {},
   "outputs": [],
   "source": []
  }
 ],
 "metadata": {
  "kernelspec": {
   "display_name": "Python 3",
   "language": "python",
   "name": "python3"
  },
  "language_info": {
   "codemirror_mode": {
    "name": "ipython",
    "version": 3
   },
   "file_extension": ".py",
   "mimetype": "text/x-python",
   "name": "python",
   "nbconvert_exporter": "python",
   "pygments_lexer": "ipython3",
   "version": "3.7.1"
  }
 },
 "nbformat": 4,
 "nbformat_minor": 4
}
