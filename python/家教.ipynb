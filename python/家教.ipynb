{
 "cells": [
  {
   "cell_type": "code",
   "execution_count": null,
   "metadata": {},
   "outputs": [],
   "source": [
    "first_name = \"Mike\"\n",
    "last_name = \"Ku\"\n",
    "print(\"Hi, my name is \")\n",
    "\n",
    "\n",
    "結果：Hi, my name is Sophia Tsai. "
   ]
  },
  {
   "cell_type": "code",
   "execution_count": 1,
   "metadata": {},
   "outputs": [
    {
     "name": "stdout",
     "output_type": "stream",
     "text": [
      "['Google', 'Runoob', 'Taobao', 'Facebook']\n"
     ]
    }
   ],
   "source": [
    "txt = \"Google#Runoob#Taobao#Facebook\"\n",
    "x = txt.split(\"#\")\n",
    "print(x)"
   ]
  },
  {
   "cell_type": "code",
   "execution_count": 1,
   "metadata": {},
   "outputs": [],
   "source": [
    "movie_1 = {'name': 'Saving Private Ryan',  'year': 1998, 'director': 'Steven Spielberg'}\n",
    "movie_2 = dict(name='The Breakfast Club', year=1985, director='John Hughes')\n"
   ]
  },
  {
   "cell_type": "code",
   "execution_count": 25,
   "metadata": {},
   "outputs": [
    {
     "name": "stdout",
     "output_type": "stream",
     "text": [
      "False\n"
     ]
    }
   ],
   "source": [
    "fruit1 = {'apple':2}\n",
    "\n",
    "fruit2 = {'banana':3,'orange':5}\n",
    "\n",
    "print('apple' in fruit2)"
   ]
  },
  {
   "cell_type": "code",
   "execution_count": 26,
   "metadata": {},
   "outputs": [
    {
     "name": "stdout",
     "output_type": "stream",
     "text": [
      "banana 3\n",
      "orange 5\n"
     ]
    }
   ],
   "source": [
    "for key, value in fruit2.items():\n",
    "    print(key,value)"
   ]
  },
  {
   "cell_type": "code",
   "execution_count": 23,
   "metadata": {},
   "outputs": [
    {
     "data": {
      "text/plain": [
       "{'banana': 3}"
      ]
     },
     "execution_count": 23,
     "metadata": {},
     "output_type": "execute_result"
    }
   ],
   "source": [
    "fruit2"
   ]
  },
  {
   "cell_type": "code",
   "execution_count": 15,
   "metadata": {},
   "outputs": [],
   "source": [
    "fruit['orange'] = 5"
   ]
  },
  {
   "cell_type": "code",
   "execution_count": 16,
   "metadata": {},
   "outputs": [
    {
     "data": {
      "text/plain": [
       "5"
      ]
     },
     "execution_count": 16,
     "metadata": {},
     "output_type": "execute_result"
    }
   ],
   "source": [
    "fruit['orange']"
   ]
  },
  {
   "cell_type": "code",
   "execution_count": 11,
   "metadata": {},
   "outputs": [
    {
     "data": {
      "text/plain": [
       "2"
      ]
     },
     "execution_count": 11,
     "metadata": {},
     "output_type": "execute_result"
    }
   ],
   "source": [
    "fruit = dict (apple=2, banana=3, orange=5)\n",
    "\n",
    "fruit['apple']"
   ]
  },
  {
   "cell_type": "code",
   "execution_count": 7,
   "metadata": {},
   "outputs": [
    {
     "name": "stdout",
     "output_type": "stream",
     "text": [
      "The Breakfast Club\n"
     ]
    }
   ],
   "source": [
    "print(movie_2[\"name\"])"
   ]
  },
  {
   "cell_type": "code",
   "execution_count": 51,
   "metadata": {},
   "outputs": [
    {
     "data": {
      "text/plain": [
       "bool"
      ]
     },
     "execution_count": 51,
     "metadata": {},
     "output_type": "execute_result"
    }
   ],
   "source": [
    "type(True)\n",
    "door = False\n",
    "type(door)"
   ]
  },
  {
   "cell_type": "code",
   "execution_count": 50,
   "metadata": {},
   "outputs": [],
   "source": [
    "if door:\n",
    "    print('123')"
   ]
  },
  {
   "cell_type": "code",
   "execution_count": 5,
   "metadata": {},
   "outputs": [
    {
     "name": "stdout",
     "output_type": "stream",
     "text": [
      "good dog\n"
     ]
    }
   ],
   "source": [
    "print('good dog')"
   ]
  },
  {
   "cell_type": "code",
   "execution_count": 8,
   "metadata": {},
   "outputs": [],
   "source": [
    "def add_function():\n",
    "    print(1+1)\n",
    "    \n"
   ]
  },
  {
   "cell_type": "code",
   "execution_count": 9,
   "metadata": {},
   "outputs": [
    {
     "name": "stdout",
     "output_type": "stream",
     "text": [
      "2\n"
     ]
    }
   ],
   "source": [
    "add_function()"
   ]
  },
  {
   "cell_type": "code",
   "execution_count": 3,
   "metadata": {},
   "outputs": [
    {
     "data": {
      "text/plain": [
       "str"
      ]
     },
     "execution_count": 3,
     "metadata": {},
     "output_type": "execute_result"
    }
   ],
   "source": [
    "type('g')"
   ]
  },
  {
   "cell_type": "code",
   "execution_count": 17,
   "metadata": {},
   "outputs": [],
   "source": [
    "revenue = 10000\n",
    "year = 12"
   ]
  },
  {
   "cell_type": "code",
   "execution_count": 43,
   "metadata": {},
   "outputs": [
    {
     "data": {
      "text/plain": [
       "bool"
      ]
     },
     "execution_count": 43,
     "metadata": {},
     "output_type": "execute_result"
    }
   ],
   "source": [
    "type(bool(year))"
   ]
  },
  {
   "cell_type": "code",
   "execution_count": 39,
   "metadata": {},
   "outputs": [
    {
     "name": "stdout",
     "output_type": "stream",
     "text": [
      "120000\n",
      "120000\n",
      "120000\n",
      "360000\n"
     ]
    }
   ],
   "source": [
    "money = 0\n",
    "for i in range(3):\n",
    "    temp = revenue * year\n",
    "    print(temp)\n",
    "    money += temp \n",
    "\n",
    "print(money)"
   ]
  },
  {
   "cell_type": "code",
   "execution_count": null,
   "metadata": {},
   "outputs": [],
   "source": [
    "#====== [HW1] ======\n",
    "# temporary 暫時的\n",
    "# range 範圍\n",
    "# list 清單\n",
    "# index 引數、索引\n",
    "# type 型態\n",
    "# break 跳脫\n",
    "# integer 整數 => 縮寫：int\n",
    "# float 浮點數\n",
    "# boolean 布林值 => 縮寫：bool\n",
    "# true 正確\n",
    "# false 錯誤\n",
    "# string 字串 => 縮寫：str\n",
    "# char 字元\n",
    "# return 回傳\n",
    "# import 匯入\n",
    "# none 無、沒有\n",
    "# define 定義\n",
    "# function 函式、功能\n",
    "# print 列印\n",
    "\n",
    "#====== [HW2] ======\n",
    "# length 長度 => 縮寫:len\n",
    "# slicing 切片\n",
    "# dataframe 資料表\n",
    "# \\n 換行 (n: new line新的一行)\n",
    "# \\t tab\n",
    "# split 分割、切割\n",
    "# join 合併\n",
    "# iterable 可迭代的、可重複循環的\n",
    "# upper 把字母轉成大寫\n",
    "# lower 把字母轉成小寫\n",
    "# object 物件\n",
    "# numeric 數字\n",
    "# replace 取代\n",
    "\n",
    "#====== [HW3] ======\n",
    "# iterable 可迭代的、可重複循環的\n",
    "# replace 取代\n",
    "# list 清單、串列\n",
    "# comment 評論；註解\n",
    "# '#' 單行註解\n",
    "# '''''' 多行註解\n",
    "# condition 條件\n",
    "# statement 敘述(程式碼片段)\n",
    "# if 如果\n",
    "# else 其他\n",
    "# elif 如果其他 => else if 的縮寫\n",
    "# while 當....(意思等於when)\n",
    "# break 跳脫\n",
    "# continue 繼續\n",
    "# == 等於\n",
    "# = 指定\n",
    "# != 不等於\n",
    "# ! 不是(not)\n",
    "# range 範圍\n",
    "# length 長度 => 縮寫:len\n",
    "\n",
    "\n",
    "#====== [HW4] ======\n",
    "# define 定義(用於定義函式、功能) => 縮寫: def\n",
    "# return 回傳\n",
    "# list 串列 => 用[]表示\n",
    "# tuple => 用()表示\n",
    "# set 集合 => 用{}表示\n",
    "# append 附加\n",
    "# item 項目\n",
    "# element 元素\n",
    "# extend 擴充\n",
    "# insert 插入\n",
    "# delete 刪除\n",
    "# pop 取出、移除\n",
    "# index 索引\n",
    "# value 值\n",
    "# sort 排序\n",
    "# dictionary 字典 => 縮寫：dict\n",
    "# key-value 鍵-值\n",
    "# update 更新\n",
    "# add 加、新增\n",
    "# remove 移除\n",
    "# & 且、和(and)\n",
    "# | 或是(or)\n",
    "\n",
    "\n",
    "\n",
    "#====== [HW5] ======\n"
   ]
  },
  {
   "cell_type": "code",
   "execution_count": 5,
   "metadata": {},
   "outputs": [
    {
     "data": {
      "text/plain": [
       "\"print('hello')\""
      ]
     },
     "execution_count": 5,
     "metadata": {},
     "output_type": "execute_result"
    }
   ],
   "source": [
    "'''print('hello')'''"
   ]
  },
  {
   "cell_type": "code",
   "execution_count": 52,
   "metadata": {},
   "outputs": [],
   "source": [
    "x = 1"
   ]
  },
  {
   "cell_type": "code",
   "execution_count": 21,
   "metadata": {},
   "outputs": [
    {
     "data": {
      "text/plain": [
       "True"
      ]
     },
     "execution_count": 21,
     "metadata": {},
     "output_type": "execute_result"
    }
   ],
   "source": [
    "x == 10"
   ]
  },
  {
   "cell_type": "code",
   "execution_count": null,
   "metadata": {},
   "outputs": [],
   "source": [
    "y += 3"
   ]
  },
  {
   "cell_type": "code",
   "execution_count": 44,
   "metadata": {},
   "outputs": [
    {
     "data": {
      "text/plain": [
       "2"
      ]
     },
     "execution_count": 44,
     "metadata": {},
     "output_type": "execute_result"
    }
   ],
   "source": [
    "y = y + 3\n",
    "x"
   ]
  },
  {
   "cell_type": "code",
   "execution_count": 58,
   "metadata": {},
   "outputs": [
    {
     "name": "stdout",
     "output_type": "stream",
     "text": [
      "[1, 2, 3, 4]\n"
     ]
    }
   ],
   "source": [
    "print(list(range(1,5)))"
   ]
  },
  {
   "cell_type": "code",
   "execution_count": 60,
   "metadata": {},
   "outputs": [
    {
     "name": "stdout",
     "output_type": "stream",
     "text": [
      "1\n",
      "2\n",
      "3\n",
      "4\n",
      "5\n",
      "6\n"
     ]
    }
   ],
   "source": [
    "for i in range(1,7):\n",
    "    print(i)"
   ]
  },
  {
   "cell_type": "code",
   "execution_count": 53,
   "metadata": {},
   "outputs": [
    {
     "name": "stdout",
     "output_type": "stream",
     "text": [
      "hello\n",
      "hello\n",
      "hello\n",
      "world\n"
     ]
    }
   ],
   "source": [
    "while(x < 4):\n",
    "    print('hello')\n",
    "    x += 1\n",
    "    if x==10:\n",
    "        continue\n",
    "        print('hello')\n",
    "    else x == 5:\n",
    "        break\n",
    "        \n",
    "print('world')"
   ]
  },
  {
   "cell_type": "code",
   "execution_count": 33,
   "metadata": {},
   "outputs": [
    {
     "name": "stdout",
     "output_type": "stream",
     "text": [
      "world\n"
     ]
    }
   ],
   "source": [
    "if x == 10:\n",
    "    print('hello')\n",
    "    print('hello')\n",
    "    print('hello')\n",
    "    print('hello')\n",
    "    print('hello')\n",
    "elif x==2:\n",
    "    print('bye')\n",
    "    \n",
    "else:\n",
    "    print('world')"
   ]
  },
  {
   "cell_type": "code",
   "execution_count": 9,
   "metadata": {},
   "outputs": [
    {
     "name": "stdout",
     "output_type": "stream",
     "text": [
      "helloapple\n"
     ]
    }
   ],
   "source": [
    "print('hello'\\\n",
    "'apple')"
   ]
  },
  {
   "cell_type": "code",
   "execution_count": 11,
   "metadata": {},
   "outputs": [
    {
     "name": "stdout",
     "output_type": "stream",
     "text": [
      "helloapple\n"
     ]
    }
   ],
   "source": [
    "print('hello''apple')dddddddddddddddddd\\\n",
    "dddddddddddddddddddddddddddddddddddddddddddddddddddddddddddddddddddddddddddddddddddddddddddddddd"
   ]
  },
  {
   "cell_type": "code",
   "execution_count": 4,
   "metadata": {},
   "outputs": [
    {
     "data": {
      "text/plain": [
       "\"print('ddddd')\\nprint('to')\""
      ]
     },
     "execution_count": 4,
     "metadata": {},
     "output_type": "execute_result"
    }
   ],
   "source": [
    "'''print('ddddd')\n",
    "print('to')'''"
   ]
  },
  {
   "cell_type": "code",
   "execution_count": 28,
   "metadata": {},
   "outputs": [
    {
     "data": {
      "text/plain": [
       "[0, 1, 2, 3, 4, 5, 6, 7, 8, 9]"
      ]
     },
     "execution_count": 28,
     "metadata": {},
     "output_type": "execute_result"
    }
   ],
   "source": [
    "list(range(10))"
   ]
  },
  {
   "cell_type": "code",
   "execution_count": 2,
   "metadata": {},
   "outputs": [
    {
     "name": "stdout",
     "output_type": "stream",
     "text": [
      "['apple', 'banana', 'tomato']\n"
     ]
    }
   ],
   "source": [
    "bag = ['apple','banana','tomato']\n",
    "# type(bag)\n",
    "print(bag)"
   ]
  },
  {
   "cell_type": "code",
   "execution_count": 35,
   "metadata": {},
   "outputs": [
    {
     "data": {
      "text/plain": [
       "['apple', 'banana', 'potato', 'tomato']"
      ]
     },
     "execution_count": 35,
     "metadata": {},
     "output_type": "execute_result"
    }
   ],
   "source": [
    "vegetable = ['apple','banana','potato','tomato']\n",
    "vegetable"
   ]
  },
  {
   "cell_type": "code",
   "execution_count": 32,
   "metadata": {},
   "outputs": [
    {
     "data": {
      "text/plain": [
       "'tomato'"
      ]
     },
     "execution_count": 32,
     "metadata": {},
     "output_type": "execute_result"
    }
   ],
   "source": [
    "vegetable[3]"
   ]
  },
  {
   "cell_type": "code",
   "execution_count": 38,
   "metadata": {},
   "outputs": [],
   "source": [
    "# len('tomato')\n",
    "fruit = 'tomato、banana、apple'"
   ]
  },
  {
   "cell_type": "code",
   "execution_count": 31,
   "metadata": {},
   "outputs": [
    {
     "data": {
      "text/plain": [
       "'omat'"
      ]
     },
     "execution_count": 31,
     "metadata": {},
     "output_type": "execute_result"
    }
   ],
   "source": [
    "fruit[1:5]"
   ]
  },
  {
   "cell_type": "code",
   "execution_count": 39,
   "metadata": {},
   "outputs": [
    {
     "data": {
      "text/plain": [
       "['tomato', 'banana', 'apple']"
      ]
     },
     "execution_count": 39,
     "metadata": {},
     "output_type": "execute_result"
    }
   ],
   "source": [
    "fruit.split('、')"
   ]
  },
  {
   "cell_type": "code",
   "execution_count": 42,
   "metadata": {},
   "outputs": [
    {
     "data": {
      "text/plain": [
       "'tomato,banana,apple'"
      ]
     },
     "execution_count": 42,
     "metadata": {},
     "output_type": "execute_result"
    }
   ],
   "source": [
    "','.join(['tomato', 'banana', 'apple'])"
   ]
  },
  {
   "cell_type": "code",
   "execution_count": 45,
   "metadata": {},
   "outputs": [
    {
     "data": {
      "text/plain": [
       "'tomato、banana、apple'"
      ]
     },
     "execution_count": 45,
     "metadata": {},
     "output_type": "execute_result"
    }
   ],
   "source": [
    "fruit.upper().lower()"
   ]
  },
  {
   "cell_type": "code",
   "execution_count": 47,
   "metadata": {},
   "outputs": [
    {
     "data": {
      "text/plain": [
       "True"
      ]
     },
     "execution_count": 47,
     "metadata": {},
     "output_type": "execute_result"
    }
   ],
   "source": [
    "fruit.islower()"
   ]
  },
  {
   "cell_type": "code",
   "execution_count": null,
   "metadata": {},
   "outputs": [],
   "source": []
  }
 ],
 "metadata": {
  "kernelspec": {
   "display_name": "Python 3",
   "language": "python",
   "name": "python3"
  },
  "language_info": {
   "codemirror_mode": {
    "name": "ipython",
    "version": 3
   },
   "file_extension": ".py",
   "mimetype": "text/x-python",
   "name": "python",
   "nbconvert_exporter": "python",
   "pygments_lexer": "ipython3",
   "version": "3.7.1"
  }
 },
 "nbformat": 4,
 "nbformat_minor": 2
}
