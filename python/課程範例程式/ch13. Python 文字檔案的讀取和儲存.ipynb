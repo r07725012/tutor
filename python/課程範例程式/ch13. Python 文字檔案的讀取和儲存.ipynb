{
 "cells": [
  {
   "cell_type": "code",
   "execution_count": 2,
   "metadata": {},
   "outputs": [],
   "source": [
    "# 儲存檔案\n",
    "file = open(\"data.txt\", mode=\"w\") # 開啟\n",
    "file.write(\"hello file \\nSecond Line\")\n",
    "file.close()\n"
   ]
  },
  {
   "cell_type": "code",
   "execution_count": 4,
   "metadata": {},
   "outputs": [],
   "source": [
    "# 儲存檔案\n",
    "# utf-8：8-bit Unicode(萬國碼)\n",
    "file = open(\"data.txt\", mode=\"w\", encoding = \"utf-8\") # 開啟\n",
    "file.write(\"哈囉你好 \\nSecond Line\")\n",
    "file.close() # 把檔案關閉，不能再讀取寫入\n"
   ]
  },
  {
   "cell_type": "code",
   "execution_count": 5,
   "metadata": {},
   "outputs": [],
   "source": [
    "# 開啟檔案 & 關閉檔案：最佳實務(自動關閉檔案)\n",
    "with open(\"data.txt\", mode=\"w\", encoding = \"utf-8\") as file:\n",
    "    file.write(\"哈囉你好 \\n你好棒棒\")"
   ]
  },
  {
   "cell_type": "code",
   "execution_count": 6,
   "metadata": {},
   "outputs": [
    {
     "name": "stdout",
     "output_type": "stream",
     "text": [
      "哈囉你好 \n",
      "你好棒棒\n"
     ]
    }
   ],
   "source": [
    "# 讀取檔案：最佳實務\n",
    "with open(\"data.txt\", mode=\"r\", encoding = \"utf-8\") as file:\n",
    "    data_content = file.read()\n",
    "print(data_content)"
   ]
  },
  {
   "cell_type": "code",
   "execution_count": 7,
   "metadata": {},
   "outputs": [
    {
     "name": "stdout",
     "output_type": "stream",
     "text": [
      "哈囉你好 \n",
      "\n",
      "你好棒棒\n"
     ]
    }
   ],
   "source": [
    "# 把檔案中的資料一行一行讀出來\n",
    "sum = 0\n",
    "with open(\"data.txt\", mode=\"r\", encoding = \"utf-8\") as file:\n",
    "    for line in file:\n",
    "        print(line)\n",
    "    \n",
    "    \n",
    "    \n",
    "    \n",
    "    "
   ]
  },
  {
   "cell_type": "code",
   "execution_count": 9,
   "metadata": {},
   "outputs": [
    {
     "name": "stdout",
     "output_type": "stream",
     "text": [
      "name: my name\n",
      "567\n"
     ]
    }
   ],
   "source": [
    "# 使用 json格式讀取、複寫檔案\n",
    "import json\n",
    "with open(\"config.json\", mode=\"r\") as file:\n",
    "    data = json.load(file) # 字典\n",
    "print(\"name:\", data[\"name\"])\n",
    "print(data[\"name_3\"])\n"
   ]
  },
  {
   "cell_type": "code",
   "execution_count": null,
   "metadata": {},
   "outputs": [],
   "source": [
    "# 修改資料\n"
   ]
  }
 ],
 "metadata": {
  "kernelspec": {
   "display_name": "Python 3",
   "language": "python",
   "name": "python3"
  },
  "language_info": {
   "codemirror_mode": {
    "name": "ipython",
    "version": 3
   },
   "file_extension": ".py",
   "mimetype": "text/x-python",
   "name": "python",
   "nbconvert_exporter": "python",
   "pygments_lexer": "ipython3",
   "version": "3.7.1"
  }
 },
 "nbformat": 4,
 "nbformat_minor": 2
}
